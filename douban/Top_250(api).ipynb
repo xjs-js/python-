{
 "cells": [
  {
   "cell_type": "code",
   "execution_count": 1,
   "metadata": {
    "collapsed": true
   },
   "outputs": [],
   "source": [
    "import requests\n",
    "import json"
   ]
  },
  {
   "cell_type": "code",
   "execution_count": 2,
   "metadata": {
    "collapsed": true
   },
   "outputs": [],
   "source": [
    "url_1 = 'https://api.douban.com/v2/movie/top250?start=0&count=100'\n",
    "url_2 = 'https://api.douban.com/v2/movie/top250?start=100&count=100'\n",
    "url_3 = 'https://api.douban.com/v2/movie/top250?start=200&count=100'"
   ]
  },
  {
   "cell_type": "code",
   "execution_count": 3,
   "metadata": {
    "collapsed": true
   },
   "outputs": [],
   "source": [
    "rating = []\n",
    "genres = []\n",
    "title = []\n",
    "casts = []\n",
    "original_title = []\n",
    "directors = []\n",
    "year = []\n",
    "alt = []"
   ]
  },
  {
   "cell_type": "code",
   "execution_count": 4,
   "metadata": {
    "collapsed": false
   },
   "outputs": [],
   "source": [
    "for url in [url_1, url_2, url_3]:\n",
    "    \n",
    "    r = requests.get(url)\n",
    "    \n",
    "    results = json.loads(r.text)\n",
    "    \n",
    "    subjects = results['subjects']\n",
    "    \n",
    "    \n",
    "    for subj in subjects:\n",
    "    \n",
    "        rating.append(subj['rating']['average'])\n",
    "\n",
    "        genres.append(subj['genres'])\n",
    "\n",
    "        title.append(subj['title'])\n",
    "\n",
    "        casts_list = []\n",
    "        for cast in subj['casts']:\n",
    "            casts_list.append(cast['name'])\n",
    "        casts.append(casts_list)\n",
    "\n",
    "        original_title.append(subj['original_title'])\n",
    "\n",
    "        directors.append(subj['directors'][0]['name'])\n",
    "\n",
    "        year.append(subj['year'])\n",
    "\n",
    "        alt.append(subj['alt'])"
   ]
  },
  {
   "cell_type": "code",
   "execution_count": 5,
   "metadata": {
    "collapsed": false
   },
   "outputs": [],
   "source": [
    "from openpyxl import Workbook"
   ]
  },
  {
   "cell_type": "code",
   "execution_count": 6,
   "metadata": {
    "collapsed": true
   },
   "outputs": [],
   "source": [
    "wb = Workbook()\n",
    "dest_filename = 'Top250.xlsx'"
   ]
  },
  {
   "cell_type": "code",
   "execution_count": 7,
   "metadata": {
    "collapsed": true
   },
   "outputs": [],
   "source": [
    "ws = wb.active\n",
    "ws.title = '1'"
   ]
  },
  {
   "cell_type": "code",
   "execution_count": 9,
   "metadata": {
    "collapsed": true
   },
   "outputs": [],
   "source": [
    "ws.append([u'排名', u'标题',u'原标题', u'评分', u'导演', u'主演',u'类型', u'上映年份', u'主页'])"
   ]
  },
  {
   "cell_type": "code",
   "execution_count": 10,
   "metadata": {
    "collapsed": true
   },
   "outputs": [],
   "source": [
    "for row in range(0,250):\n",
    "    ws.append([row+1,title[row], original_title[row], rating[row], directors[row], ' | '.join(casts[row]), ' | '.join(genres[row]), year[row], alt[row]])"
   ]
  },
  {
   "cell_type": "code",
   "execution_count": 11,
   "metadata": {
    "collapsed": false
   },
   "outputs": [],
   "source": [
    "wb.save(dest_filename)"
   ]
  }
 ],
 "metadata": {
  "kernelspec": {
   "display_name": "Python 2",
   "language": "python",
   "name": "python2"
  },
  "language_info": {
   "codemirror_mode": {
    "name": "ipython",
    "version": 2
   },
   "file_extension": ".py",
   "mimetype": "text/x-python",
   "name": "python",
   "nbconvert_exporter": "python",
   "pygments_lexer": "ipython2",
   "version": "2.7.11"
  }
 },
 "nbformat": 4,
 "nbformat_minor": 0
}
