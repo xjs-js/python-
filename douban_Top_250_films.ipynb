{
 "cells": [
  {
   "cell_type": "code",
   "execution_count": null,
   "metadata": {
    "collapsed": true
   },
   "outputs": [],
   "source": [
    "# https://movie.douban.com/top250"
   ]
  },
  {
   "cell_type": "code",
   "execution_count": null,
   "metadata": {
    "collapsed": false
   },
   "outputs": [],
   "source": [
    "import requests\n",
    "import re\n",
    "\n",
    "import sys\n",
    "reload(sys)\n",
    "sys.setdefaultencoding('utf8')\n",
    "\n",
    "import HTMLParser\n",
    "html_parser = HTMLParser.HTMLParser()"
   ]
  },
  {
   "cell_type": "code",
   "execution_count": null,
   "metadata": {
    "collapsed": false
   },
   "outputs": [],
   "source": [
    "def handle(input_str):\n",
    "    result = u''\n",
    "    input_str = html_parser.unescape(input_str)\n",
    "    for s in input_str.split('<br>'):\n",
    "        result  +=  s.strip()\n",
    "    return result"
   ]
  },
  {
   "cell_type": "code",
   "execution_count": null,
   "metadata": {
    "collapsed": false
   },
   "outputs": [],
   "source": [
    "names_pattern = re.compile('img alt=\"([\\s\\S]+?)\"')\n",
    "details_pattern = re.compile('<p class=\"\">([\\s\\S]+?)<\\/p>')\n",
    "ratings_pattern = re.compile('<span class=\"rating_num\" property=\"v:average\">([\\d.]+)<\\/span>')"
   ]
  },
  {
   "cell_type": "code",
   "execution_count": null,
   "metadata": {
    "collapsed": false
   },
   "outputs": [],
   "source": [
    "results = []\n",
    "for i in range(0, 226, 25):\n",
    "    url = 'https://movie.douban.com/top250?start=' + str(i) + '&filter='\n",
    "    r = requests.get(url)\n",
    "    names = names_pattern.findall(r.text)\n",
    "    details = details_pattern.findall(r.text)\n",
    "    ratings = ratings_pattern.findall(r.text)\n",
    "    temp = []\n",
    "    for i in range(len(names)):\n",
    "        temp.append((names[i], ratings[i], handle(details[i])))\n",
    "    results += temp"
   ]
  },
  {
   "cell_type": "code",
   "execution_count": null,
   "metadata": {
    "collapsed": false
   },
   "outputs": [],
   "source": [
    "file_name = 'Top_250.txt'\n",
    "with open(file_name, 'w') as f:\n",
    "    for i in range(0, 250):\n",
    "        f.write(results[i][0] + '\\t' + results[i][1] + '\\t' + results[i][2] + '\\n')"
   ]
  }
 ],
 "metadata": {
  "kernelspec": {
   "display_name": "Python 2",
   "language": "python",
   "name": "python2"
  },
  "language_info": {
   "codemirror_mode": {
    "name": "ipython",
    "version": 2
   },
   "file_extension": ".py",
   "mimetype": "text/x-python",
   "name": "python",
   "nbconvert_exporter": "python",
   "pygments_lexer": "ipython2",
   "version": "2.7.11"
  }
 },
 "nbformat": 4,
 "nbformat_minor": 0
}
